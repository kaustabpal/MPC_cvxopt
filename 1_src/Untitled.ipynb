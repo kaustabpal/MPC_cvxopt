{
 "cells": [
  {
   "cell_type": "code",
   "execution_count": 1,
   "id": "a9036f2e-de80-4d87-8182-26025d60a858",
   "metadata": {},
   "outputs": [],
   "source": [
    "from cvxopt import matrix, solvers\n",
    "import numpy as np\n",
    "import matplotlib.pyplot as plt\n",
    "import time\n",
    "import math\n",
    "import random\n",
    "import decimal\n",
    "import copy\n",
    "from IPython.display import clear_output\n",
    "solvers.options['show_progress'] = False"
   ]
  },
  {
   "cell_type": "code",
   "execution_count": 30,
   "id": "4be3f02f-f467-4bfa-8a6f-3d8827c3e458",
   "metadata": {},
   "outputs": [],
   "source": [
    "class Agent:\n",
    "    def __init__(self, agnt_id, i_state, g_state, vg, wg, p_horizon=1, u_horizon=1):\n",
    "        self.agnt_id = agnt_id\n",
    "        self.i_state = np.array(i_state)\n",
    "        self.g_state = np.array(g_state)\n",
    "        self.c_state = self.i_state\n",
    "        self.p_horizon = p_horizon\n",
    "        self.u_horizon = u_horizon\n",
    "        self.vg = vg\n",
    "        self.wg = wg\n",
    "        self.agent_radius = 2\n",
    "        self.dt = 0.1\n",
    "        \n",
    "    def get_P_q_x(self):\n",
    "        P_x_ = np.ones((1,2*self.p_horizon))\n",
    "        d_th = np.ones((self.p_horizon)) # wg1, wg1+wg2, wg1+wg2+wg3\n",
    "        s = 0\n",
    "        for i in range(self.p_horizon):\n",
    "            s = s + self.wg\n",
    "            d_th[i] = s     \n",
    "        th_ = np.ones((self.p_horizon)) # th0+wg1*dt, th0+(wg1+wg2)*dt, th0+(wg1+wg2+wg3)*dt\n",
    "        th_0 = self.c_state[2]   \n",
    "        for i in range(self.p_horizon):\n",
    "            th_[i] = th_0 + d_th[i]*self.dt        \n",
    "        d_x = np.ones((self.p_horizon)) # contains a, b, c\n",
    "        for i in range(self.p_horizon):\n",
    "            d_x[i] = np.cos(th_[i])*self.dt       \n",
    "        d_w = np.ones((self.p_horizon)) # contains d, e, f\n",
    "        for i in range(self.p_horizon):\n",
    "            d_w[i] = -self.vg*np.sin(th_[i])*self.dt**2           \n",
    "        s_dw = np.ones((self.p_horizon)) # contains d+e+f, e+f, f\n",
    "        for i in range(self.p_horizon):\n",
    "            s_dw[i] = np.sum(d_w[i:self.p_horizon])      \n",
    "        P_x_[0,0:self.p_horizon] = d_x\n",
    "        P_x_[0,self.p_horizon:] = s_dw        \n",
    "        P_x = P_x_.T@P_x_\n",
    "        \n",
    "        ### Solving for q_x\n",
    "        q_x = np.ones((2*self.p_horizon))\n",
    "        x_0 = self.c_state[0]\n",
    "        v_sum = 0\n",
    "        w_sum = 0\n",
    "        for i in range(self.p_horizon):\n",
    "#             v_sum = v_sum + self.vg[i]*d_x[0,i]\n",
    "            w_sum = w_sum + self.wg*s_dw[i]\n",
    "            \n",
    "        z = x_0 - w_sum - self.g_state[0]\n",
    "        q_x[0:self.p_horizon] = 2*z*d_x\n",
    "        q_x[self.p_horizon:] = 2*z*s_dw \n",
    "        return P_x, q_x\n",
    "    \n",
    "    def get_P_q_y(self):\n",
    "        \n",
    "        P_y_ = np.ones((1,2*self.p_horizon))\n",
    "        \n",
    "        d_th = np.ones((1,self.p_horizon)) # wg1, wg1+wg2, wg1+wg2+wg3\n",
    "        s = 0\n",
    "        for i in range(self.p_horizon):\n",
    "            s = s + self.wg\n",
    "            d_th[0,i] = s\n",
    "        \n",
    "        th_ = np.ones((1,self.p_horizon)) # th0+wg1*dt, th0+(wg1+wg2)*dt, th0+(wg1+wg2+wg3)*dt\n",
    "        th_0 = self.c_state[2]   \n",
    "        for i in range(self.p_horizon):\n",
    "            th_[0,i] = th_0 + d_th[0,i]*self.dt\n",
    "        \n",
    "        d_y = np.ones((1,self.p_horizon)) # contains a, b, c\n",
    "        for i in range(self.p_horizon):\n",
    "            d_y[0,i] = np.sin(th_[0,i])*self.dt\n",
    "        \n",
    "        d_w = np.ones((1,self.p_horizon)) # contains d, e, f\n",
    "        for i in range(self.p_horizon):\n",
    "             d_w[0,i] = self.vg*np.cos(th_[0,i])*self.dt**2\n",
    "            \n",
    "        s_dw = np.ones((1,self.p_horizon)) # contains d+e+f, e+f, f\n",
    "        for i in range(self.p_horizon):\n",
    "            s_dw[0,i] = np.sum(d_w[0,i:self.p_horizon])\n",
    "            \n",
    "        \n",
    "        P_y_[0,0:self.p_horizon] = d_y\n",
    "        P_y_[0,self.p_horizon:] = s_dw\n",
    "        \n",
    "        P_y = P_y_.T@P_y_\n",
    "        \n",
    "        ### Solving for q_y\n",
    "        q_y = np.ones((2*self.p_horizon))\n",
    "        y_0 = self.c_state[1]\n",
    "        w_sum = 0\n",
    "        for i in range(self.p_horizon):\n",
    "            w_sum = w_sum + self.wg*s_dw[0,i]\n",
    "            \n",
    "        z = y_0 - w_sum - self.g_state[1]\n",
    "        q_y[0:self.p_horizon] = 2*z*d_y\n",
    "        q_y[self.p_horizon:] = 2*z*s_dw \n",
    "        \n",
    "        return P_y, q_y\n",
    "        \n",
    "    def get_P_q_theta(self):\n",
    "        P_theta = np.zeros((2*self.p_horizon,2*self.p_horizon))\n",
    "        P_theta[self.p_horizon:,self.p_horizon:]=self.dt**2*np.ones((self.p_horizon,self.p_horizon))\n",
    "        \n",
    "        q_theta = np.zeros((2*self.p_horizon))\n",
    "        theta_0 = self.c_state[2]\n",
    "        theta_g = self.g_state[2]\n",
    "        q_theta[self.p_horizon:]=2*(theta_0 - theta_g)*self.dt * np.ones((self.p_horizon))\n",
    "    \n",
    "        return P_theta, q_theta\n",
    "    \n",
    "    def get_P_q(self):\n",
    "        px, qx = self.get_P_q_x()\n",
    "        py, qy = self.get_P_q_y()\n",
    "        ptheta, qtheta = self.get_P_q_theta()\n",
    "        P = 2*matrix(px+py+ptheta, tc='d')\n",
    "        q = matrix(qx+qy+qtheta, tc='d')\n",
    "        return P, q\n",
    "    \n",
    "    def pred_controls(self):\n",
    "        # define the cost function here and optimize the controls to minimize it\n",
    "\n",
    "        P_x, q_x = self.get_P_q_x()\n",
    "        P_y, q_y = self.get_P_q_y()\n",
    "        P_theta, q_theta = self.get_P_q_theta()\n",
    "\n",
    "        P, q = self.get_P_q()\n",
    "\n",
    "        # Constraints\n",
    "        v_bound = 5\n",
    "        w_bound = 0.1\n",
    "        v_ub = 10 #*np.ones((self.p_horizon,1))\n",
    "        v_lb = 0 #*np.ones((self.p_horizon,1))\n",
    "        w_ub = 0.5 #*np.ones((self.p_horizon,1))\n",
    "        w_lb = 0.5 #*np.ones((self.p_horizon,1))\n",
    "        \n",
    "        h = matrix([v_ub, w_ub, v_lb, w_lb, self.vg + v_bound, self.wg + w_bound, -(self.vg - v_bound), -(self.wg - w_bound)],tc='d')\n",
    "# #         h = matrix(np.concatenate((v_ub, v_lb, w_ub, w_lb, np.reshape(self.vg,(1,1))+v_bound, -(np.reshape(self.vg,(1,1))-v_bound), np.reshape(self.wg,(1,1))+w_bound, -(np.reshape(self.wg,(1,1))-w_bound) ),axis=0), tc='d')        \n",
    "        G = matrix(np.concatenate( (np.eye(2*self.p_horizon),-np.eye(2*self.p_horizon), np.eye(2*self.p_horizon), -np.eye(2*self.p_horizon)), axis=0), tc='d')\n",
    "#         g_mat = np.array([[0,-1],[-1,0],[1,0],[0,1],[1,0],[-1,0],[0,1],[0,-1]])\n",
    "#         h = matrix(np.array([w_ub, 0, v_ub, w_ub, self.vg+5,-(self.vg-5),self.wg+0.1,-(self.wg-0.1)]),tc='d')\n",
    "#         G = matrix(g_mat,tc='d')\n",
    "        sol=solvers.qp(P, q, G, h)\n",
    "#         return sol\n",
    "        self.vg = sol['x'][0]\n",
    "        self.wg = sol['x'][1]\n",
    "#         self.v = self.vg[0]\n",
    "#         self.w = self.wg[0]\n",
    "#             diff_v = self.vg[0] - self.v\n",
    "#             diff_w = self.wg[0] - self.w\n",
    "#         return sol\n",
    "        \n",
    "        \n",
    "    def non_hol_update(self):\n",
    "        self.c_state[2] = self.c_state[2] + self.wg*self.dt\n",
    "        self.c_state[0] = self.c_state[0] + self.vg*np.cos(self.c_state[2])*self.dt\n",
    "        self.c_state[1] = self.c_state[1] + self.vg*np.sin(self.c_state[2])*self.dt\n",
    "        \n",
    "    def draw_circle(self):\n",
    "        th = np.arange(0,2*np.pi,0.01)\n",
    "        xunit = self.agent_radius * np.cos(th) + self.c_state[0]\n",
    "        yunit = self.agent_radius * np.sin(th) + self.c_state[1]\n",
    "        return xunit, yunit  \n",
    "    \n",
    "    def get_traj(self,k):\n",
    "        state = copy.deepcopy(self.c_state)\n",
    "        for i in range(k,self.p_horizon):\n",
    "            state[2] = state[2] + self.wg[i]*self.dt\n",
    "            state[0] = state[0] + self.vg[i]*np.cos(state[2])*self.dt\n",
    "            state[1] = state[1] + self.vg[i]*np.sin(state[2])*self.dt\n",
    "            self.x_traj.append(state[0])\n",
    "            self.y_traj.append(state[1])\n",
    "        \n",
    "        \n",
    "        "
   ]
  },
  {
   "cell_type": "code",
   "execution_count": 31,
   "id": "e2285d89-d8e4-436c-bc93-cd80640a94a2",
   "metadata": {},
   "outputs": [],
   "source": [
    "p_horizon = 1\n",
    "u_horizon = 1\n",
    "vg = 10 #*np.ones((p_horizon))\n",
    "wg = 0.1 #*np.ones((p_horizon)) "
   ]
  },
  {
   "cell_type": "code",
   "execution_count": 32,
   "id": "7c82da73-e8d2-4ebf-b249-06b24a53ec6e",
   "metadata": {},
   "outputs": [],
   "source": [
    "a = Agent(1, [0,0,np.deg2rad(45)],[80,50,np.deg2rad(45)], vg, wg, p_horizon, u_horizon)"
   ]
  },
  {
   "cell_type": "code",
   "execution_count": 33,
   "id": "8a659f5c-791a-45b8-ba8d-cda34101823d",
   "metadata": {},
   "outputs": [
    {
     "name": "stdout",
     "output_type": "stream",
     "text": [
      "[ 2.00e-02  0.00e+00]\n",
      "[ 0.00e+00  4.00e-02]\n",
      "\n",
      "[-1.83e+01]\n",
      "[ 4.42e+00]\n",
      "\n"
     ]
    }
   ],
   "source": [
    "P, q = a.get_P_q()\n",
    "print(P)\n",
    "print(q)"
   ]
  },
  {
   "cell_type": "code",
   "execution_count": 34,
   "id": "16090077-0b5e-484c-a01b-29ccda5ff4dd",
   "metadata": {},
   "outputs": [
    {
     "data": {
      "image/png": "[encoded data removed]",
      "text/plain": [
       "<Figure size 432x288 with 1 Axes>"
      ]
     },
     "metadata": {
      "needs_background": "light"
     },
     "output_type": "display_data"
    },
    {
     "data": {
      "text/plain": [
       "<Figure size 432x288 with 0 Axes>"
      ]
     },
     "metadata": {},
     "output_type": "display_data"
    }
   ],
   "source": [
    "th = 0.5\n",
    "timeout = 150\n",
    "while( (np.linalg.norm(a.c_state-a.g_state)>th) and timeout>0):\n",
    "# for i in range(10):\n",
    "    a.pred_controls()\n",
    "    a.non_hol_update()\n",
    "#     print(a.c_state)\n",
    "    clear_output(wait=True)\n",
    "    x,y = a.draw_circle()\n",
    "    plt.plot(x,y,'b')\n",
    "    plt.scatter(a.g_state[0],a.g_state[1],marker='x', color='r')\n",
    "    plt.plot([a.c_state[0],a.g_state[0]],[a.c_state[1],a.g_state[1]], linestyle='dotted', c='k')\n",
    "    plt.show()\n",
    "    plt.xlim([-10,100])\n",
    "    plt.ylim([-10,100])\n",
    "    timeout = timeout - a.dt\n",
    "plt.clf()"
   ]
  },
  {
   "cell_type": "code",
   "execution_count": 68,
   "id": "a21dbfeb-5f26-425c-89eb-95fdb97037f4",
   "metadata": {},
   "outputs": [
    {
     "ename": "NameError",
     "evalue": "name 'self' is not defined",
     "output_type": "error",
     "traceback": [
      "\u001b[0;31m---------------------------------------------------------------------------\u001b[0m",
      "\u001b[0;31mNameError\u001b[0m                                 Traceback (most recent call last)",
      "\u001b[0;32m<ipython-input-68-e921b4eea359>\u001b[0m in \u001b[0;36m<module>\u001b[0;34m\u001b[0m\n\u001b[0;32m----> 1\u001b[0;31m \u001b[0mnp\u001b[0m\u001b[0;34m.\u001b[0m\u001b[0mreshape\u001b[0m\u001b[0;34m(\u001b[0m\u001b[0mself\u001b[0m\u001b[0;34m.\u001b[0m\u001b[0mvg\u001b[0m\u001b[0;34m,\u001b[0m\u001b[0;34m(\u001b[0m\u001b[0;36m1\u001b[0m\u001b[0;34m,\u001b[0m\u001b[0;36m1\u001b[0m\u001b[0;34m)\u001b[0m\u001b[0;34m)\u001b[0m \u001b[0;34m+\u001b[0m \u001b[0;36m1\u001b[0m\u001b[0;34m\u001b[0m\u001b[0;34m\u001b[0m\u001b[0m\n\u001b[0m",
      "\u001b[0;31mNameError\u001b[0m: name 'self' is not defined"
     ]
    }
   ],
   "source": [
    "np.reshape(self.vg,(1,1)) + 1"
   ]
  },
  {
   "cell_type": "code",
   "execution_count": 69,
   "id": "bf05f6ae-faa0-4564-b380-4e8c046eb519",
   "metadata": {},
   "outputs": [
    {
     "data": {
      "text/plain": [
       "array([0.79707138])"
      ]
     },
     "execution_count": 69,
     "metadata": {},
     "output_type": "execute_result"
    }
   ],
   "source": [
    "a.vg"
   ]
  },
  {
   "cell_type": "code",
   "execution_count": 75,
   "id": "7dff0d2f-a653-47bf-bf54-e6a383c97ff4",
   "metadata": {},
   "outputs": [
    {
     "name": "stdout",
     "output_type": "stream",
     "text": [
      "[ 1]\n",
      "[ 2]\n",
      "[ 3]\n",
      "\n"
     ]
    }
   ],
   "source": []
  },
  {
   "cell_type": "code",
   "execution_count": 18,
   "id": "afb6c927-b058-4e21-b5fb-3a068763f5b5",
   "metadata": {},
   "outputs": [],
   "source": [
    "g_mat = np.array([[0,-1],[-1,0],[1,0],[0,1],[1,0],[-1,0],[0,1],[0,-1]])"
   ]
  },
  {
   "cell_type": "code",
   "execution_count": 21,
   "id": "ac125b83-d370-43a8-81b6-dcb822f0a08a",
   "metadata": {},
   "outputs": [
    {
     "name": "stdout",
     "output_type": "stream",
     "text": [
      "[ 0.00e+00 -1.00e+00]\n",
      "[-1.00e+00  0.00e+00]\n",
      "[ 1.00e+00  0.00e+00]\n",
      "[ 0.00e+00  1.00e+00]\n",
      "[ 1.00e+00  0.00e+00]\n",
      "[-1.00e+00  0.00e+00]\n",
      "[ 0.00e+00  1.00e+00]\n",
      "[ 0.00e+00 -1.00e+00]\n",
      "\n"
     ]
    }
   ],
   "source": [
    "print(matrix(g_mat, tc='d'))"
   ]
  },
  {
   "cell_type": "code",
   "execution_count": 29,
   "id": "06d30e36-944f-423f-947b-8aef89114cf3",
   "metadata": {},
   "outputs": [
    {
     "data": {
      "text/plain": [
       "array([[ 1.,  0.],\n",
       "       [ 0.,  1.],\n",
       "       [-1., -0.],\n",
       "       [-0., -1.],\n",
       "       [ 1.,  0.],\n",
       "       [ 0.,  1.],\n",
       "       [-1., -0.],\n",
       "       [-0., -1.]])"
      ]
     },
     "execution_count": 29,
     "metadata": {},
     "output_type": "execute_result"
    }
   ],
   "source": [
    "np.concatenate( (np.eye(2*a.p_horizon),-np.eye(2*a.p_horizon), np.eye(2*a.p_horizon), -np.eye(2*a.p_horizon)),axis=0)"
   ]
  },
  {
   "cell_type": "code",
   "execution_count": null,
   "id": "7b6b19bc-99d9-4fff-922c-4e2374de35f6",
   "metadata": {},
   "outputs": [],
   "source": []
  }
 ],
 "metadata": {
  "kernelspec": {
   "display_name": "Python 3",
   "language": "python",
   "name": "python3"
  },
  "language_info": {
   "codemirror_mode": {
    "name": "ipython",
    "version": 3
   },
   "file_extension": ".py",
   "mimetype": "text/x-python",
   "name": "python",
   "nbconvert_exporter": "python",
   "pygments_lexer": "ipython3",
   "version": "3.8.10"
  }
 },
 "nbformat": 4,
 "nbformat_minor": 5
}
