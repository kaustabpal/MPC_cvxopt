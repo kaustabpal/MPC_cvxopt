{
 "cells": [
  {
   "cell_type": "code",
   "execution_count": 2,
   "id": "60846d89-f578-491c-a324-b6cd1136e538",
   "metadata": {},
   "outputs": [],
   "source": [
    "from cvxopt import matrix, solvers"
   ]
  },
  {
   "cell_type": "code",
   "execution_count": 3,
   "id": "e5cdb538-715d-469f-91d6-d214eee489be",
   "metadata": {},
   "outputs": [],
   "source": [
    "Q = 2*matrix([ [2, .5], [.5, 1] ])"
   ]
  },
  {
   "cell_type": "code",
   "execution_count": 4,
   "id": "869d42fd-6e98-450d-8021-249f8d4c7fdf",
   "metadata": {},
   "outputs": [],
   "source": [
    "p = matrix([1.0, 1.0])"
   ]
  },
  {
   "cell_type": "code",
   "execution_count": 5,
   "id": "6ed8a5b4-4077-49ad-a2ca-4d28c232eeb9",
   "metadata": {},
   "outputs": [],
   "source": [
    "G = matrix([[-1.0,0.0],[0.0,-1.0]])"
   ]
  },
  {
   "cell_type": "code",
   "execution_count": 6,
   "id": "02858a59-0585-4b25-81c8-0fde29aff805",
   "metadata": {},
   "outputs": [],
   "source": [
    "h = matrix([0.0,0.0])"
   ]
  },
  {
   "cell_type": "code",
   "execution_count": 7,
   "id": "c11f73d3-18dd-4160-8a8c-f2a3947d1bc5",
   "metadata": {},
   "outputs": [],
   "source": [
    "A = matrix([1.0, 1.0], (1,2))"
   ]
  },
  {
   "cell_type": "code",
   "execution_count": 8,
   "id": "6783cebe-855a-4467-be62-165bc1330d95",
   "metadata": {},
   "outputs": [],
   "source": [
    "b = matrix(1.0)"
   ]
  },
  {
   "cell_type": "code",
   "execution_count": 9,
   "id": "f6d1a98e-a042-4538-a976-b6552ae3ab4a",
   "metadata": {},
   "outputs": [
    {
     "name": "stdout",
     "output_type": "stream",
     "text": [
      "     pcost       dcost       gap    pres   dres\n",
      " 0: -2.6531e-01 -1.6327e-01  4e-01  2e+00  9e-17\n",
      " 1: -2.4425e-01 -1.2778e-01  2e-02  3e-01  1e-16\n",
      " 2: -5.2421e-02 -3.3415e-03  8e-03  5e-02  4e-16\n",
      " 3: -1.6881e-04 -3.4339e-08  1e-04  2e-04  5e-16\n",
      " 4: -1.6884e-06 -3.4339e-12  1e-06  2e-06  3e-16\n",
      " 5: -1.6884e-08 -3.4339e-16  1e-08  2e-08  5e-16\n",
      "Optimal solution found.\n",
      "[-1.11e-08]\n",
      "[-5.81e-09]\n",
      "\n"
     ]
    }
   ],
   "source": [
    "sol=solvers.qp(Q, p, G, h) #, A, b)\n",
    "print(sol['x'])"
   ]
  },
  {
   "cell_type": "code",
   "execution_count": 19,
   "id": "30cbad46-7abb-492c-bd0a-52521dc7830e",
   "metadata": {},
   "outputs": [
    {
     "name": "stdout",
     "output_type": "stream",
     "text": [
      "[-1.11e-08]\n",
      "\n"
     ]
    }
   ],
   "source": [
    "print(sol['x'][0:-1])"
   ]
  },
  {
   "cell_type": "code",
   "execution_count": null,
   "id": "3c105ac3-5dde-469a-9895-4afb40909b5a",
   "metadata": {},
   "outputs": [],
   "source": []
  },
  {
   "cell_type": "code",
   "execution_count": null,
   "id": "5fe78f63-042a-4382-977f-b33f87e09380",
   "metadata": {},
   "outputs": [],
   "source": []
  },
  {
   "cell_type": "code",
   "execution_count": null,
   "id": "fd166d92-0a99-4e41-a5dd-274bc08d94e4",
   "metadata": {},
   "outputs": [],
   "source": []
  }
 ],
 "metadata": {
  "kernelspec": {
   "display_name": "Python 3",
   "language": "python",
   "name": "python3"
  },
  "language_info": {
   "codemirror_mode": {
    "name": "ipython",
    "version": 3
   },
   "file_extension": ".py",
   "mimetype": "text/x-python",
   "name": "python",
   "nbconvert_exporter": "python",
   "pygments_lexer": "ipython3",
   "version": "3.8.8"
  }
 },
 "nbformat": 4,
 "nbformat_minor": 5
}
