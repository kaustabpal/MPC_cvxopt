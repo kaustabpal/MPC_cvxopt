{
 "cells": [
  {
   "cell_type": "code",
   "execution_count": 2,
   "id": "85c509a1-c7c5-4823-bc00-475207553d29",
   "metadata": {},
   "outputs": [],
   "source": [
    "import osqp\n",
    "import numpy as np\n",
    "from scipy import sparse"
   ]
  },
  {
   "cell_type": "code",
   "execution_count": 23,
   "id": "b6e455a6-3a46-4e99-b896-8feba05fe683",
   "metadata": {},
   "outputs": [],
   "source": [
    "# Define problem data\n",
    "P = sparse.csc_matrix([[4, 1], [1, 2]])\n",
    "q = np.array([1, 1])\n",
    "A = sparse.csc_matrix([[1, 1], [1, 0], [0, 1]])\n",
    "l = np.array([1, 0, 0])\n",
    "u = np.array([1, 0.7, 0.7])\n",
    "\n",
    "# Create an OSQP object\n",
    "prob = osqp.OSQP()\n",
    "\n",
    "# Setup workspace and change alpha parameter\n",
    "prob.setup(P, q, A, l, u, verbose = False)\n",
    "\n",
    "# Solve problem\n",
    "res = prob.solve()"
   ]
  },
  {
   "cell_type": "code",
   "execution_count": 12,
   "id": "ed9933e0-fb6b-4c34-b52f-624bd1447758",
   "metadata": {},
   "outputs": [
    {
     "name": "stdout",
     "output_type": "stream",
     "text": [
      "[0.30000019 0.69999981]\n"
     ]
    }
   ],
   "source": [
    "print(res.x)"
   ]
  },
  {
   "cell_type": "code",
   "execution_count": 6,
   "id": "321ff748-7113-4761-84fd-a179ce6d915f",
   "metadata": {},
   "outputs": [
    {
     "name": "stdout",
     "output_type": "stream",
     "text": [
      "  (0, 0)\t4\n",
      "  (1, 0)\t2\n",
      "  (0, 1)\t1\n",
      "  (1, 1)\t3\n"
     ]
    }
   ],
   "source": [
    "print(sparse.csc_matrix([[4, 1], [2, 3]]))"
   ]
  },
  {
   "cell_type": "code",
   "execution_count": 7,
   "id": "5963e857-8b32-4386-8982-cb58258cbca3",
   "metadata": {},
   "outputs": [],
   "source": [
    "a = np.array([[4,1],[2,3]])"
   ]
  },
  {
   "cell_type": "code",
   "execution_count": 8,
   "id": "d6edb07a-0e99-4308-9c6c-fe983f8c079c",
   "metadata": {},
   "outputs": [
    {
     "name": "stdout",
     "output_type": "stream",
     "text": [
      "  (0, 0)\t4\n",
      "  (1, 0)\t2\n",
      "  (0, 1)\t1\n",
      "  (1, 1)\t3\n"
     ]
    }
   ],
   "source": [
    "print(sparse.csc_matrix(a))"
   ]
  },
  {
   "cell_type": "code",
   "execution_count": 14,
   "id": "42429aef-78a0-48ae-a322-b2559c45e14e",
   "metadata": {},
   "outputs": [
    {
     "data": {
      "text/plain": [
       "1.0"
      ]
     },
     "execution_count": 14,
     "metadata": {},
     "output_type": "execute_result"
    }
   ],
   "source": [
    "0.30000019 + 0.69999981"
   ]
  },
  {
   "cell_type": "code",
   "execution_count": 15,
   "id": "dca895b5-fea4-4c17-94eb-01d45b99b5c2",
   "metadata": {},
   "outputs": [],
   "source": [
    "l = np.array([1, 0, 0])"
   ]
  },
  {
   "cell_type": "code",
   "execution_count": 16,
   "id": "27d5f391-9793-4ef9-976a-680fd1ef503e",
   "metadata": {},
   "outputs": [
    {
     "data": {
      "text/plain": [
       "(3,)"
      ]
     },
     "execution_count": 16,
     "metadata": {},
     "output_type": "execute_result"
    }
   ],
   "source": [
    "l.shape"
   ]
  },
  {
   "cell_type": "code",
   "execution_count": 20,
   "id": "7da46ea5-f516-449f-b0c0-cb94e1ca1a47",
   "metadata": {},
   "outputs": [],
   "source": [
    "t1 = np.ones((3))\n",
    "t2 = 2*np.ones((3))\n",
    "t3 = 3*np.ones((3))"
   ]
  },
  {
   "cell_type": "code",
   "execution_count": 22,
   "id": "6e3bfd38-ca3e-49fd-b736-816a4df8b8a5",
   "metadata": {},
   "outputs": [
    {
     "data": {
      "text/plain": [
       "array([1., 1., 1., 2., 2., 2., 3., 3., 3.])"
      ]
     },
     "execution_count": 22,
     "metadata": {},
     "output_type": "execute_result"
    }
   ],
   "source": [
    "np.concatenate((t1,t2,t3),axis =0)"
   ]
  },
  {
   "cell_type": "code",
   "execution_count": 4,
   "id": "0f0e0cf5-df3e-4a2b-aeb9-6bb4694a8dd6",
   "metadata": {},
   "outputs": [
    {
     "data": {
      "text/plain": [
       "-inf"
      ]
     },
     "execution_count": 4,
     "metadata": {},
     "output_type": "execute_result"
    }
   ],
   "source": [
    "-np.inf"
   ]
  },
  {
   "cell_type": "code",
   "execution_count": 6,
   "id": "bec713a8-b97c-4fb1-bae5-d98eb11526ea",
   "metadata": {},
   "outputs": [
    {
     "data": {
      "text/plain": [
       "False"
      ]
     },
     "execution_count": 6,
     "metadata": {},
     "output_type": "execute_result"
    }
   ],
   "source": [
    "-np.inf>=1"
   ]
  },
  {
   "cell_type": "code",
   "execution_count": null,
   "id": "bc496cfe-52d4-40fd-9c0a-d2a09475cd24",
   "metadata": {},
   "outputs": [],
   "source": []
  }
 ],
 "metadata": {
  "kernelspec": {
   "display_name": "Python 3",
   "language": "python",
   "name": "python3"
  },
  "language_info": {
   "codemirror_mode": {
    "name": "ipython",
    "version": 3
   },
   "file_extension": ".py",
   "mimetype": "text/x-python",
   "name": "python",
   "nbconvert_exporter": "python",
   "pygments_lexer": "ipython3",
   "version": "3.8.10"
  }
 },
 "nbformat": 4,
 "nbformat_minor": 5
}
